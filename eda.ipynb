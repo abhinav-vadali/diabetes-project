{
 "cells": [
  {
   "metadata": {},
   "cell_type": "markdown",
   "source": "**Exploratory Data Analysis**\n",
   "id": "86f4dec1163f4e88"
  },
  {
   "metadata": {
    "ExecuteTime": {
     "end_time": "2025-06-09T18:32:27.828374Z",
     "start_time": "2025-06-09T18:32:27.804781Z"
    }
   },
   "cell_type": "code",
   "source": [
    "import pandas as pd\n",
    "import matplotlib.pylab as plt\n",
    "plt.style.use(\"ggplot\")"
   ],
   "id": "2485b530faeb5864",
   "outputs": [],
   "execution_count": 155
  },
  {
   "metadata": {
    "ExecuteTime": {
     "end_time": "2025-06-09T18:32:27.889184Z",
     "start_time": "2025-06-09T18:32:27.863415Z"
    }
   },
   "cell_type": "code",
   "source": "data = pd.read_csv('/Users/abhinavvadali/Documents/PycharmProjects/tensorflow/Dataset of Diabetes .csv')",
   "id": "45f0801d5e62d86f",
   "outputs": [],
   "execution_count": 156
  },
  {
   "metadata": {
    "ExecuteTime": {
     "end_time": "2025-06-18T19:21:35.698100Z",
     "start_time": "2025-06-18T19:21:35.690166Z"
    }
   },
   "cell_type": "code",
   "source": "data.head(5)",
   "id": "d39114760c1cedc3",
   "outputs": [
    {
     "data": {
      "text/plain": [
       "    ID  Num_Patient Gender  Age  Urea  Cr  HbA1c  Chol   TG  HDL  LDL  VLDL  \\\n",
       "0  502        17975      F   50   4.7  46    4.9   4.2  0.9  2.4  1.4   0.5   \n",
       "1  735        34221      M   26   4.5  62    4.9   3.7  1.4  1.1  2.1   0.6   \n",
       "2  420        47975      F   50   4.7  46    4.9   4.2  0.9  2.4  1.4   0.5   \n",
       "3  680        87656      F   50   4.7  46    4.9   4.2  0.9  2.4  1.4   0.5   \n",
       "4  504        34223      M   33   7.1  46    4.9   4.9  1.0  0.8  2.0   0.4   \n",
       "\n",
       "    BMI Class  \n",
       "0  24.0     N  \n",
       "1  23.0     N  \n",
       "2  24.0     N  \n",
       "3  24.0     N  \n",
       "4  21.0     N  "
      ],
      "text/html": [
       "<div>\n",
       "<style scoped>\n",
       "    .dataframe tbody tr th:only-of-type {\n",
       "        vertical-align: middle;\n",
       "    }\n",
       "\n",
       "    .dataframe tbody tr th {\n",
       "        vertical-align: top;\n",
       "    }\n",
       "\n",
       "    .dataframe thead th {\n",
       "        text-align: right;\n",
       "    }\n",
       "</style>\n",
       "<table border=\"1\" class=\"dataframe\">\n",
       "  <thead>\n",
       "    <tr style=\"text-align: right;\">\n",
       "      <th></th>\n",
       "      <th>ID</th>\n",
       "      <th>Num_Patient</th>\n",
       "      <th>Gender</th>\n",
       "      <th>Age</th>\n",
       "      <th>Urea</th>\n",
       "      <th>Cr</th>\n",
       "      <th>HbA1c</th>\n",
       "      <th>Chol</th>\n",
       "      <th>TG</th>\n",
       "      <th>HDL</th>\n",
       "      <th>LDL</th>\n",
       "      <th>VLDL</th>\n",
       "      <th>BMI</th>\n",
       "      <th>Class</th>\n",
       "    </tr>\n",
       "  </thead>\n",
       "  <tbody>\n",
       "    <tr>\n",
       "      <th>0</th>\n",
       "      <td>502</td>\n",
       "      <td>17975</td>\n",
       "      <td>F</td>\n",
       "      <td>50</td>\n",
       "      <td>4.7</td>\n",
       "      <td>46</td>\n",
       "      <td>4.9</td>\n",
       "      <td>4.2</td>\n",
       "      <td>0.9</td>\n",
       "      <td>2.4</td>\n",
       "      <td>1.4</td>\n",
       "      <td>0.5</td>\n",
       "      <td>24.0</td>\n",
       "      <td>N</td>\n",
       "    </tr>\n",
       "    <tr>\n",
       "      <th>1</th>\n",
       "      <td>735</td>\n",
       "      <td>34221</td>\n",
       "      <td>M</td>\n",
       "      <td>26</td>\n",
       "      <td>4.5</td>\n",
       "      <td>62</td>\n",
       "      <td>4.9</td>\n",
       "      <td>3.7</td>\n",
       "      <td>1.4</td>\n",
       "      <td>1.1</td>\n",
       "      <td>2.1</td>\n",
       "      <td>0.6</td>\n",
       "      <td>23.0</td>\n",
       "      <td>N</td>\n",
       "    </tr>\n",
       "    <tr>\n",
       "      <th>2</th>\n",
       "      <td>420</td>\n",
       "      <td>47975</td>\n",
       "      <td>F</td>\n",
       "      <td>50</td>\n",
       "      <td>4.7</td>\n",
       "      <td>46</td>\n",
       "      <td>4.9</td>\n",
       "      <td>4.2</td>\n",
       "      <td>0.9</td>\n",
       "      <td>2.4</td>\n",
       "      <td>1.4</td>\n",
       "      <td>0.5</td>\n",
       "      <td>24.0</td>\n",
       "      <td>N</td>\n",
       "    </tr>\n",
       "    <tr>\n",
       "      <th>3</th>\n",
       "      <td>680</td>\n",
       "      <td>87656</td>\n",
       "      <td>F</td>\n",
       "      <td>50</td>\n",
       "      <td>4.7</td>\n",
       "      <td>46</td>\n",
       "      <td>4.9</td>\n",
       "      <td>4.2</td>\n",
       "      <td>0.9</td>\n",
       "      <td>2.4</td>\n",
       "      <td>1.4</td>\n",
       "      <td>0.5</td>\n",
       "      <td>24.0</td>\n",
       "      <td>N</td>\n",
       "    </tr>\n",
       "    <tr>\n",
       "      <th>4</th>\n",
       "      <td>504</td>\n",
       "      <td>34223</td>\n",
       "      <td>M</td>\n",
       "      <td>33</td>\n",
       "      <td>7.1</td>\n",
       "      <td>46</td>\n",
       "      <td>4.9</td>\n",
       "      <td>4.9</td>\n",
       "      <td>1.0</td>\n",
       "      <td>0.8</td>\n",
       "      <td>2.0</td>\n",
       "      <td>0.4</td>\n",
       "      <td>21.0</td>\n",
       "      <td>N</td>\n",
       "    </tr>\n",
       "  </tbody>\n",
       "</table>\n",
       "</div>"
      ]
     },
     "execution_count": 178,
     "metadata": {},
     "output_type": "execute_result"
    }
   ],
   "execution_count": 178
  },
  {
   "metadata": {},
   "cell_type": "markdown",
   "source": "Through the head function, we can take a look at the data and the features we have. From here, we can decide what data analysis we should do to investigate the data.",
   "id": "1768922593498426"
  },
  {
   "metadata": {
    "ExecuteTime": {
     "end_time": "2025-06-18T19:22:50.118560Z",
     "start_time": "2025-06-18T19:22:50.107912Z"
    }
   },
   "cell_type": "code",
   "source": "data.dtypes",
   "id": "10cb693776df576",
   "outputs": [
    {
     "data": {
      "text/plain": [
       "ID               int64\n",
       "Num_Patient      int64\n",
       "Gender          object\n",
       "Age              int64\n",
       "Urea           float64\n",
       "Cr               int64\n",
       "HbA1c          float64\n",
       "Chol           float64\n",
       "TG             float64\n",
       "HDL            float64\n",
       "LDL            float64\n",
       "VLDL           float64\n",
       "BMI            float64\n",
       "Class           object\n",
       "dtype: object"
      ]
     },
     "execution_count": 180,
     "metadata": {},
     "output_type": "execute_result"
    }
   ],
   "execution_count": 180
  },
  {
   "metadata": {},
   "cell_type": "markdown",
   "source": "In the data types, we see that gender is an object, specifically a string. Because of this, we will need to encode it later into an integer so that we can use ML models on the dataset.",
   "id": "9d982944e6fc3fea"
  },
  {
   "metadata": {
    "ExecuteTime": {
     "end_time": "2025-06-09T18:32:28.215444Z",
     "start_time": "2025-06-09T18:32:28.186671Z"
    }
   },
   "cell_type": "code",
   "source": "data.drop(columns = ['ID', 'Num_Patient']).describe()",
   "id": "85282aac74a8edd5",
   "outputs": [
    {
     "data": {
      "text/plain": [
       "               Age         Urea           Cr        HbA1c         Chol  \\\n",
       "count  1000.000000  1000.000000  1000.000000  1000.000000  1000.000000   \n",
       "mean     53.528000     5.124743    68.943000     8.281160     4.862820   \n",
       "std       8.799241     2.935165    59.984747     2.534003     1.301738   \n",
       "min      20.000000     0.500000     6.000000     0.900000     0.000000   \n",
       "25%      51.000000     3.700000    48.000000     6.500000     4.000000   \n",
       "50%      55.000000     4.600000    60.000000     8.000000     4.800000   \n",
       "75%      59.000000     5.700000    73.000000    10.200000     5.600000   \n",
       "max      79.000000    38.900000   800.000000    16.000000    10.300000   \n",
       "\n",
       "                TG          HDL          LDL         VLDL          BMI  \n",
       "count  1000.000000  1000.000000  1000.000000  1000.000000  1000.000000  \n",
       "mean      2.349610     1.204750     2.609790     1.854700    29.578020  \n",
       "std       1.401176     0.660414     1.115102     3.663599     4.962388  \n",
       "min       0.300000     0.200000     0.300000     0.100000    19.000000  \n",
       "25%       1.500000     0.900000     1.800000     0.700000    26.000000  \n",
       "50%       2.000000     1.100000     2.500000     0.900000    30.000000  \n",
       "75%       2.900000     1.300000     3.300000     1.500000    33.000000  \n",
       "max      13.800000     9.900000     9.900000    35.000000    47.750000  "
      ],
      "text/html": [
       "<div>\n",
       "<style scoped>\n",
       "    .dataframe tbody tr th:only-of-type {\n",
       "        vertical-align: middle;\n",
       "    }\n",
       "\n",
       "    .dataframe tbody tr th {\n",
       "        vertical-align: top;\n",
       "    }\n",
       "\n",
       "    .dataframe thead th {\n",
       "        text-align: right;\n",
       "    }\n",
       "</style>\n",
       "<table border=\"1\" class=\"dataframe\">\n",
       "  <thead>\n",
       "    <tr style=\"text-align: right;\">\n",
       "      <th></th>\n",
       "      <th>Age</th>\n",
       "      <th>Urea</th>\n",
       "      <th>Cr</th>\n",
       "      <th>HbA1c</th>\n",
       "      <th>Chol</th>\n",
       "      <th>TG</th>\n",
       "      <th>HDL</th>\n",
       "      <th>LDL</th>\n",
       "      <th>VLDL</th>\n",
       "      <th>BMI</th>\n",
       "    </tr>\n",
       "  </thead>\n",
       "  <tbody>\n",
       "    <tr>\n",
       "      <th>count</th>\n",
       "      <td>1000.000000</td>\n",
       "      <td>1000.000000</td>\n",
       "      <td>1000.000000</td>\n",
       "      <td>1000.000000</td>\n",
       "      <td>1000.000000</td>\n",
       "      <td>1000.000000</td>\n",
       "      <td>1000.000000</td>\n",
       "      <td>1000.000000</td>\n",
       "      <td>1000.000000</td>\n",
       "      <td>1000.000000</td>\n",
       "    </tr>\n",
       "    <tr>\n",
       "      <th>mean</th>\n",
       "      <td>53.528000</td>\n",
       "      <td>5.124743</td>\n",
       "      <td>68.943000</td>\n",
       "      <td>8.281160</td>\n",
       "      <td>4.862820</td>\n",
       "      <td>2.349610</td>\n",
       "      <td>1.204750</td>\n",
       "      <td>2.609790</td>\n",
       "      <td>1.854700</td>\n",
       "      <td>29.578020</td>\n",
       "    </tr>\n",
       "    <tr>\n",
       "      <th>std</th>\n",
       "      <td>8.799241</td>\n",
       "      <td>2.935165</td>\n",
       "      <td>59.984747</td>\n",
       "      <td>2.534003</td>\n",
       "      <td>1.301738</td>\n",
       "      <td>1.401176</td>\n",
       "      <td>0.660414</td>\n",
       "      <td>1.115102</td>\n",
       "      <td>3.663599</td>\n",
       "      <td>4.962388</td>\n",
       "    </tr>\n",
       "    <tr>\n",
       "      <th>min</th>\n",
       "      <td>20.000000</td>\n",
       "      <td>0.500000</td>\n",
       "      <td>6.000000</td>\n",
       "      <td>0.900000</td>\n",
       "      <td>0.000000</td>\n",
       "      <td>0.300000</td>\n",
       "      <td>0.200000</td>\n",
       "      <td>0.300000</td>\n",
       "      <td>0.100000</td>\n",
       "      <td>19.000000</td>\n",
       "    </tr>\n",
       "    <tr>\n",
       "      <th>25%</th>\n",
       "      <td>51.000000</td>\n",
       "      <td>3.700000</td>\n",
       "      <td>48.000000</td>\n",
       "      <td>6.500000</td>\n",
       "      <td>4.000000</td>\n",
       "      <td>1.500000</td>\n",
       "      <td>0.900000</td>\n",
       "      <td>1.800000</td>\n",
       "      <td>0.700000</td>\n",
       "      <td>26.000000</td>\n",
       "    </tr>\n",
       "    <tr>\n",
       "      <th>50%</th>\n",
       "      <td>55.000000</td>\n",
       "      <td>4.600000</td>\n",
       "      <td>60.000000</td>\n",
       "      <td>8.000000</td>\n",
       "      <td>4.800000</td>\n",
       "      <td>2.000000</td>\n",
       "      <td>1.100000</td>\n",
       "      <td>2.500000</td>\n",
       "      <td>0.900000</td>\n",
       "      <td>30.000000</td>\n",
       "    </tr>\n",
       "    <tr>\n",
       "      <th>75%</th>\n",
       "      <td>59.000000</td>\n",
       "      <td>5.700000</td>\n",
       "      <td>73.000000</td>\n",
       "      <td>10.200000</td>\n",
       "      <td>5.600000</td>\n",
       "      <td>2.900000</td>\n",
       "      <td>1.300000</td>\n",
       "      <td>3.300000</td>\n",
       "      <td>1.500000</td>\n",
       "      <td>33.000000</td>\n",
       "    </tr>\n",
       "    <tr>\n",
       "      <th>max</th>\n",
       "      <td>79.000000</td>\n",
       "      <td>38.900000</td>\n",
       "      <td>800.000000</td>\n",
       "      <td>16.000000</td>\n",
       "      <td>10.300000</td>\n",
       "      <td>13.800000</td>\n",
       "      <td>9.900000</td>\n",
       "      <td>9.900000</td>\n",
       "      <td>35.000000</td>\n",
       "      <td>47.750000</td>\n",
       "    </tr>\n",
       "  </tbody>\n",
       "</table>\n",
       "</div>"
      ]
     },
     "execution_count": 162,
     "metadata": {},
     "output_type": "execute_result"
    }
   ],
   "execution_count": 162
  },
  {
   "metadata": {},
   "cell_type": "markdown",
   "source": [
    "The table above displays various summary statistics for each feature of the data, including mean, standard deviation, extrema, and more. Using this data, we can learn basic information about each feature and determine if further analysis is needed.\n",
    "\n",
    "From a quick glance, I noticed that the mean age was approximately 53 years old with the 25% age being 51. Because these ages were close together, I decided to conduct further analysis later on the distribution of ages in the dataset. As for the rest of the features, I conducted research on the medical significance of them to determine whether their statistics were in an appropriate range. There were no major discrepancies, so I decided to only look at age.\n",
    "\n"
   ],
   "id": "b151450ee986bf36"
  },
  {
   "metadata": {
    "ExecuteTime": {
     "end_time": "2025-06-18T19:20:53.962466Z",
     "start_time": "2025-06-18T19:20:53.957406Z"
    }
   },
   "cell_type": "code",
   "source": "data.isna().sum()",
   "id": "5fe9906519801e2d",
   "outputs": [
    {
     "data": {
      "text/plain": [
       "ID             0\n",
       "Num_Patient    0\n",
       "Gender         0\n",
       "Age            0\n",
       "Urea           0\n",
       "Cr             0\n",
       "HbA1c          0\n",
       "Chol           0\n",
       "TG             0\n",
       "HDL            0\n",
       "LDL            0\n",
       "VLDL           0\n",
       "BMI            0\n",
       "Class          0\n",
       "dtype: int64"
      ]
     },
     "execution_count": 176,
     "metadata": {},
     "output_type": "execute_result"
    }
   ],
   "execution_count": 176
  },
  {
   "metadata": {},
   "cell_type": "markdown",
   "source": "Our dataset has no null or missing values. This means that we do not have to drop any values and deal with that in our dataset.",
   "id": "8a8e9f5c5c852985"
  },
  {
   "metadata": {
    "ExecuteTime": {
     "end_time": "2025-06-09T18:32:28.364237Z",
     "start_time": "2025-06-09T18:32:28.354269Z"
    }
   },
   "cell_type": "code",
   "source": "data.loc[data.duplicated()]",
   "id": "a28dc68a670088c0",
   "outputs": [
    {
     "data": {
      "text/plain": [
       "Empty DataFrame\n",
       "Columns: [ID, Num_Patient, Gender, Age, Urea, Cr, HbA1c, Chol, TG, HDL, LDL, VLDL, BMI, Class]\n",
       "Index: []"
      ],
      "text/html": [
       "<div>\n",
       "<style scoped>\n",
       "    .dataframe tbody tr th:only-of-type {\n",
       "        vertical-align: middle;\n",
       "    }\n",
       "\n",
       "    .dataframe tbody tr th {\n",
       "        vertical-align: top;\n",
       "    }\n",
       "\n",
       "    .dataframe thead th {\n",
       "        text-align: right;\n",
       "    }\n",
       "</style>\n",
       "<table border=\"1\" class=\"dataframe\">\n",
       "  <thead>\n",
       "    <tr style=\"text-align: right;\">\n",
       "      <th></th>\n",
       "      <th>ID</th>\n",
       "      <th>Num_Patient</th>\n",
       "      <th>Gender</th>\n",
       "      <th>Age</th>\n",
       "      <th>Urea</th>\n",
       "      <th>Cr</th>\n",
       "      <th>HbA1c</th>\n",
       "      <th>Chol</th>\n",
       "      <th>TG</th>\n",
       "      <th>HDL</th>\n",
       "      <th>LDL</th>\n",
       "      <th>VLDL</th>\n",
       "      <th>BMI</th>\n",
       "      <th>Class</th>\n",
       "    </tr>\n",
       "  </thead>\n",
       "  <tbody>\n",
       "  </tbody>\n",
       "</table>\n",
       "</div>"
      ]
     },
     "execution_count": 164,
     "metadata": {},
     "output_type": "execute_result"
    }
   ],
   "execution_count": 164
  },
  {
   "metadata": {},
   "cell_type": "markdown",
   "source": "None of the records in our data have been mistakenly duplicated. This means that we do not have to drop any rows from the dataset.",
   "id": "f7e683cca8ef4065"
  },
  {
   "metadata": {
    "ExecuteTime": {
     "end_time": "2025-06-09T18:32:28.443381Z",
     "start_time": "2025-06-09T18:32:28.437594Z"
    }
   },
   "cell_type": "code",
   "source": "data['Gender'].value_counts()",
   "id": "560af04799b7ca2b",
   "outputs": [
    {
     "data": {
      "text/plain": [
       "Gender\n",
       "M    565\n",
       "F    435\n",
       "Name: count, dtype: int64"
      ]
     },
     "execution_count": 165,
     "metadata": {},
     "output_type": "execute_result"
    }
   ],
   "execution_count": 165
  },
  {
   "metadata": {},
   "cell_type": "markdown",
   "source": "Upon running a chi-squared test on the data because it is categorical, I obtained a p-value of 0.00004, far less than 0.05. Because of this result, the difference is significant between the amount of males and females. This means that the model more accurately generalizes men than women.",
   "id": "d6063c2029b97d2e"
  },
  {
   "metadata": {
    "ExecuteTime": {
     "end_time": "2025-06-09T18:32:28.787096Z",
     "start_time": "2025-06-09T18:32:28.511503Z"
    }
   },
   "cell_type": "code",
   "source": [
    "age_plot = data['Age'].plot(kind = 'kde', title = 'Ages of Patients')\n",
    "age_plot.set_xlabel(\"Age (years)\")\n",
    "age_plot.set_ylabel(\"Frequency\")"
   ],
   "id": "b69261e0a1eefe0c",
   "outputs": [
    {
     "data": {
      "text/plain": [
       "Text(0, 0.5, 'Frequency')"
      ]
     },
     "execution_count": 166,
     "metadata": {},
     "output_type": "execute_result"
    },
    {
     "data": {
      "text/plain": [
       "<Figure size 640x480 with 1 Axes>"
      ],
      "image/png": "[encoded data removed]"
     },
     "metadata": {},
     "output_type": "display_data"
    }
   ],
   "execution_count": 166
  },
  {
   "metadata": {},
   "cell_type": "markdown",
   "source": "As mentioned before, I wanted to investigate the age distribution further. The plot of ages is heavily populated with ages between 50 and 60. This means that the dataset does not accurately reflect the diabetes risk for younger patients and more elderly patients.",
   "id": "6b8bd687ac97953f"
  },
  {
   "metadata": {
    "ExecuteTime": {
     "end_time": "2025-06-13T17:55:06.892391Z",
     "start_time": "2025-06-13T17:55:06.645082Z"
    }
   },
   "cell_type": "code",
   "source": [
    "bmi_plot = data['BMI'].plot(kind = \"kde\", title = \"BMI of patients\")\n",
    "bmi_plot.set_xlabel(\"BMI\")\n",
    "bmi_plot.set_ylabel(\"Frequency\")"
   ],
   "id": "dd7f4af28ef8028a",
   "outputs": [
    {
     "data": {
      "text/plain": [
       "Text(0, 0.5, 'Frequency')"
      ]
     },
     "execution_count": 170,
     "metadata": {},
     "output_type": "execute_result"
    },
    {
     "data": {
      "text/plain": [
       "<Figure size 640x480 with 1 Axes>"
      ],
      "image/png": "[encoded data removed]"
     },
     "metadata": {},
     "output_type": "display_data"
    }
   ],
   "execution_count": 170
  },
  {
   "metadata": {},
   "cell_type": "markdown",
   "source": "The BMIs of patients is heavily concentrated between 20 and 40, making the model unable to accurately predict results outside of this range.",
   "id": "6d71cbbc574420be"
  },
  {
   "metadata": {
    "ExecuteTime": {
     "end_time": "2025-06-09T18:32:28.843121Z",
     "start_time": "2025-06-09T18:32:28.834491Z"
    }
   },
   "cell_type": "code",
   "source": "data.drop(columns = ['ID', 'Num_Patient']).select_dtypes(exclude = 'object').corr()",
   "id": "790be44bc989ba76",
   "outputs": [
    {
     "data": {
      "text/plain": [
       "            Age      Urea        Cr     HbA1c      Chol        TG       HDL  \\\n",
       "Age    1.000000  0.105092  0.054941  0.379136  0.036649  0.148204 -0.020038   \n",
       "Urea   0.105092  1.000000  0.624134 -0.023603  0.001852  0.040980 -0.036994   \n",
       "Cr     0.054941  0.624134  1.000000 -0.037412 -0.007097  0.056579 -0.023804   \n",
       "HbA1c  0.379136 -0.023603 -0.037412  1.000000  0.177489  0.218556  0.028933   \n",
       "Chol   0.036649  0.001852 -0.007097  0.177489  1.000000  0.321789  0.103814   \n",
       "TG     0.148204  0.040980  0.056579  0.218556  0.321789  1.000000 -0.083001   \n",
       "HDL   -0.020038 -0.036994 -0.023804  0.028933  0.103814 -0.083001  1.000000   \n",
       "LDL    0.016105 -0.007301  0.039479  0.011057  0.416665  0.015378 -0.142079   \n",
       "VLDL  -0.087903 -0.011191  0.009615  0.073462  0.076294  0.144570 -0.059275   \n",
       "BMI    0.375956  0.045618  0.054746  0.413350  0.013678  0.110757  0.072409   \n",
       "\n",
       "            LDL      VLDL       BMI  \n",
       "Age    0.016105 -0.087903  0.375956  \n",
       "Urea  -0.007301 -0.011191  0.045618  \n",
       "Cr     0.039479  0.009615  0.054746  \n",
       "HbA1c  0.011057  0.073462  0.413350  \n",
       "Chol   0.416665  0.076294  0.013678  \n",
       "TG     0.015378  0.144570  0.110757  \n",
       "HDL   -0.142079 -0.059275  0.072409  \n",
       "LDL    1.000000  0.062795 -0.067322  \n",
       "VLDL   0.062795  1.000000  0.198133  \n",
       "BMI   -0.067322  0.198133  1.000000  "
      ],
      "text/html": [
       "<div>\n",
       "<style scoped>\n",
       "    .dataframe tbody tr th:only-of-type {\n",
       "        vertical-align: middle;\n",
       "    }\n",
       "\n",
       "    .dataframe tbody tr th {\n",
       "        vertical-align: top;\n",
       "    }\n",
       "\n",
       "    .dataframe thead th {\n",
       "        text-align: right;\n",
       "    }\n",
       "</style>\n",
       "<table border=\"1\" class=\"dataframe\">\n",
       "  <thead>\n",
       "    <tr style=\"text-align: right;\">\n",
       "      <th></th>\n",
       "      <th>Age</th>\n",
       "      <th>Urea</th>\n",
       "      <th>Cr</th>\n",
       "      <th>HbA1c</th>\n",
       "      <th>Chol</th>\n",
       "      <th>TG</th>\n",
       "      <th>HDL</th>\n",
       "      <th>LDL</th>\n",
       "      <th>VLDL</th>\n",
       "      <th>BMI</th>\n",
       "    </tr>\n",
       "  </thead>\n",
       "  <tbody>\n",
       "    <tr>\n",
       "      <th>Age</th>\n",
       "      <td>1.000000</td>\n",
       "      <td>0.105092</td>\n",
       "      <td>0.054941</td>\n",
       "      <td>0.379136</td>\n",
       "      <td>0.036649</td>\n",
       "      <td>0.148204</td>\n",
       "      <td>-0.020038</td>\n",
       "      <td>0.016105</td>\n",
       "      <td>-0.087903</td>\n",
       "      <td>0.375956</td>\n",
       "    </tr>\n",
       "    <tr>\n",
       "      <th>Urea</th>\n",
       "      <td>0.105092</td>\n",
       "      <td>1.000000</td>\n",
       "      <td>0.624134</td>\n",
       "      <td>-0.023603</td>\n",
       "      <td>0.001852</td>\n",
       "      <td>0.040980</td>\n",
       "      <td>-0.036994</td>\n",
       "      <td>-0.007301</td>\n",
       "      <td>-0.011191</td>\n",
       "      <td>0.045618</td>\n",
       "    </tr>\n",
       "    <tr>\n",
       "      <th>Cr</th>\n",
       "      <td>0.054941</td>\n",
       "      <td>0.624134</td>\n",
       "      <td>1.000000</td>\n",
       "      <td>-0.037412</td>\n",
       "      <td>-0.007097</td>\n",
       "      <td>0.056579</td>\n",
       "      <td>-0.023804</td>\n",
       "      <td>0.039479</td>\n",
       "      <td>0.009615</td>\n",
       "      <td>0.054746</td>\n",
       "    </tr>\n",
       "    <tr>\n",
       "      <th>HbA1c</th>\n",
       "      <td>0.379136</td>\n",
       "      <td>-0.023603</td>\n",
       "      <td>-0.037412</td>\n",
       "      <td>1.000000</td>\n",
       "      <td>0.177489</td>\n",
       "      <td>0.218556</td>\n",
       "      <td>0.028933</td>\n",
       "      <td>0.011057</td>\n",
       "      <td>0.073462</td>\n",
       "      <td>0.413350</td>\n",
       "    </tr>\n",
       "    <tr>\n",
       "      <th>Chol</th>\n",
       "      <td>0.036649</td>\n",
       "      <td>0.001852</td>\n",
       "      <td>-0.007097</td>\n",
       "      <td>0.177489</td>\n",
       "      <td>1.000000</td>\n",
       "      <td>0.321789</td>\n",
       "      <td>0.103814</td>\n",
       "      <td>0.416665</td>\n",
       "      <td>0.076294</td>\n",
       "      <td>0.013678</td>\n",
       "    </tr>\n",
       "    <tr>\n",
       "      <th>TG</th>\n",
       "      <td>0.148204</td>\n",
       "      <td>0.040980</td>\n",
       "      <td>0.056579</td>\n",
       "      <td>0.218556</td>\n",
       "      <td>0.321789</td>\n",
       "      <td>1.000000</td>\n",
       "      <td>-0.083001</td>\n",
       "      <td>0.015378</td>\n",
       "      <td>0.144570</td>\n",
       "      <td>0.110757</td>\n",
       "    </tr>\n",
       "    <tr>\n",
       "      <th>HDL</th>\n",
       "      <td>-0.020038</td>\n",
       "      <td>-0.036994</td>\n",
       "      <td>-0.023804</td>\n",
       "      <td>0.028933</td>\n",
       "      <td>0.103814</td>\n",
       "      <td>-0.083001</td>\n",
       "      <td>1.000000</td>\n",
       "      <td>-0.142079</td>\n",
       "      <td>-0.059275</td>\n",
       "      <td>0.072409</td>\n",
       "    </tr>\n",
       "    <tr>\n",
       "      <th>LDL</th>\n",
       "      <td>0.016105</td>\n",
       "      <td>-0.007301</td>\n",
       "      <td>0.039479</td>\n",
       "      <td>0.011057</td>\n",
       "      <td>0.416665</td>\n",
       "      <td>0.015378</td>\n",
       "      <td>-0.142079</td>\n",
       "      <td>1.000000</td>\n",
       "      <td>0.062795</td>\n",
       "      <td>-0.067322</td>\n",
       "    </tr>\n",
       "    <tr>\n",
       "      <th>VLDL</th>\n",
       "      <td>-0.087903</td>\n",
       "      <td>-0.011191</td>\n",
       "      <td>0.009615</td>\n",
       "      <td>0.073462</td>\n",
       "      <td>0.076294</td>\n",
       "      <td>0.144570</td>\n",
       "      <td>-0.059275</td>\n",
       "      <td>0.062795</td>\n",
       "      <td>1.000000</td>\n",
       "      <td>0.198133</td>\n",
       "    </tr>\n",
       "    <tr>\n",
       "      <th>BMI</th>\n",
       "      <td>0.375956</td>\n",
       "      <td>0.045618</td>\n",
       "      <td>0.054746</td>\n",
       "      <td>0.413350</td>\n",
       "      <td>0.013678</td>\n",
       "      <td>0.110757</td>\n",
       "      <td>0.072409</td>\n",
       "      <td>-0.067322</td>\n",
       "      <td>0.198133</td>\n",
       "      <td>1.000000</td>\n",
       "    </tr>\n",
       "  </tbody>\n",
       "</table>\n",
       "</div>"
      ]
     },
     "execution_count": 167,
     "metadata": {},
     "output_type": "execute_result"
    }
   ],
   "execution_count": 167
  },
  {
   "metadata": {},
   "cell_type": "markdown",
   "source": "The table above shows the correlations of each numerical factor with each other.",
   "id": "1d0b52ce3aff8e73"
  }
 ],
 "metadata": {
  "kernelspec": {
   "display_name": "Python 3",
   "language": "python",
   "name": "python3"
  },
  "language_info": {
   "codemirror_mode": {
    "name": "ipython",
    "version": 2
   },
   "file_extension": ".py",
   "mimetype": "text/x-python",
   "name": "python",
   "nbconvert_exporter": "python",
   "pygments_lexer": "ipython2",
   "version": "2.7.6"
  }
 },
 "nbformat": 4,
 "nbformat_minor": 5
}
